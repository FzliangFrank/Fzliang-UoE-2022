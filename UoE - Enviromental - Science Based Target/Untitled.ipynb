{
 "cells": [
  {
   "cell_type": "code",
   "execution_count": 1,
   "metadata": {},
   "outputs": [],
   "source": [
    "import numpy as np\n",
    "import matplotlib.pyplot as plt\n",
    "import pandas as pd\n",
    "import seaborn as sns"
   ]
  },
  {
   "cell_type": "code",
   "execution_count": 10,
   "metadata": {},
   "outputs": [
    {
     "name": "stdout",
     "output_type": "stream",
     "text": [
      "<class 'pandas.core.frame.DataFrame'>\n",
      "RangeIndex: 1182 entries, 0 to 1181\n",
      "Data columns (total 13 columns):\n",
      " #   Column                  Non-Null Count  Dtype  \n",
      "---  ------                  --------------  -----  \n",
      " 0   Company Name            1182 non-null   object \n",
      " 1   ISIN                    574 non-null    object \n",
      " 2   Target Qualification    571 non-null    object \n",
      " 3   SME?                    45 non-null     float64\n",
      " 4   Business ambitions 1.5  393 non-null    float64\n",
      " 5   Country                 1182 non-null   object \n",
      " 6   Region                  1182 non-null   object \n",
      " 7   Sector                  1181 non-null   object \n",
      " 8   Status                  1182 non-null   object \n",
      " 9   Date                    1182 non-null   object \n",
      " 10  Date Explanation        0 non-null      float64\n",
      " 11  Target                  572 non-null    object \n",
      " 12  Target Classification   568 non-null    object \n",
      "dtypes: float64(3), object(10)\n",
      "memory usage: 120.2+ KB\n"
     ]
    }
   ],
   "source": [
    "df = pd.read_csv(\"/Users/frankliang/Dropbox/Projects/Enviromental - Science Based Target/companies-taking-action.csv\")\n",
    "df.info()"
   ]
  },
  {
   "cell_type": "code",
   "execution_count": 49,
   "metadata": {},
   "outputs": [
    {
     "data": {
      "text/html": [
       "<div>\n",
       "<style scoped>\n",
       "    .dataframe tbody tr th:only-of-type {\n",
       "        vertical-align: middle;\n",
       "    }\n",
       "\n",
       "    .dataframe tbody tr th {\n",
       "        vertical-align: top;\n",
       "    }\n",
       "\n",
       "    .dataframe thead th {\n",
       "        text-align: right;\n",
       "    }\n",
       "</style>\n",
       "<table border=\"1\" class=\"dataframe\">\n",
       "  <thead>\n",
       "    <tr style=\"text-align: right;\">\n",
       "      <th></th>\n",
       "      <th>Company Name</th>\n",
       "      <th>ISIN</th>\n",
       "      <th>Target Qualification</th>\n",
       "      <th>SME?</th>\n",
       "      <th>Business ambitions 1.5</th>\n",
       "      <th>Country</th>\n",
       "      <th>Region</th>\n",
       "      <th>Sector</th>\n",
       "      <th>Status</th>\n",
       "      <th>Date</th>\n",
       "      <th>Date Explanation</th>\n",
       "      <th>Target</th>\n",
       "      <th>Target Classification</th>\n",
       "    </tr>\n",
       "  </thead>\n",
       "  <tbody>\n",
       "    <tr>\n",
       "      <th>1179</th>\n",
       "      <td>Pal International</td>\n",
       "      <td>NaN</td>\n",
       "      <td>1.5°C</td>\n",
       "      <td>1.0</td>\n",
       "      <td>NaN</td>\n",
       "      <td>United Kingdom (UK)</td>\n",
       "      <td>Europe</td>\n",
       "      <td>Healthcare Equipment and Supplies</td>\n",
       "      <td>Targets Set</td>\n",
       "      <td>2021-01-28 00:00:00</td>\n",
       "      <td>NaN</td>\n",
       "      <td>\"This target was approved using a streamlined target validation route exclusive to small and medium-sized enterprises (SMEs). https://sciencebasedtargets.org/faqs-for-smes/\\nPal International commits to reduce absolute scope 1 and scope 2 GHG emissions 50% by 2030 from a 2018 base year, and to measure and reduce its scope 3 emissions.\"</td>\n",
       "      <td>The targets covering greenhouse gas emissions from company operations (scopes 1 and 2) are consistent with reductions required to keep warming to 1.5°C.</td>\n",
       "    </tr>\n",
       "    <tr>\n",
       "      <th>1107</th>\n",
       "      <td>PACCAR Inc</td>\n",
       "      <td>US6937181088</td>\n",
       "      <td>NaN</td>\n",
       "      <td>NaN</td>\n",
       "      <td>NaN</td>\n",
       "      <td>United States of America (USA)</td>\n",
       "      <td>North America</td>\n",
       "      <td>Electrical Equipment and Machinery</td>\n",
       "      <td>Committed</td>\n",
       "      <td>2021-01-07 00:00:00</td>\n",
       "      <td>NaN</td>\n",
       "      <td>NaN</td>\n",
       "      <td>NaN</td>\n",
       "    </tr>\n",
       "    <tr>\n",
       "      <th>1114</th>\n",
       "      <td>Reitan Convenience Sweden AB</td>\n",
       "      <td>NaN</td>\n",
       "      <td>NaN</td>\n",
       "      <td>NaN</td>\n",
       "      <td>1.0</td>\n",
       "      <td>Sweden</td>\n",
       "      <td>Europe</td>\n",
       "      <td>Retailing</td>\n",
       "      <td>Committed</td>\n",
       "      <td>2021-01-07 00:00:00</td>\n",
       "      <td>NaN</td>\n",
       "      <td>NaN</td>\n",
       "      <td>NaN</td>\n",
       "    </tr>\n",
       "  </tbody>\n",
       "</table>\n",
       "</div>"
      ],
      "text/plain": [
       "                      Company Name          ISIN Target Qualification  SME?  \\\n",
       "1179  Pal International             NaN           1.5°C                1.0    \n",
       "1107  PACCAR Inc                    US6937181088  NaN                 NaN     \n",
       "1114  Reitan Convenience Sweden AB  NaN           NaN                 NaN     \n",
       "\n",
       "      Business ambitions 1.5                         Country         Region  \\\n",
       "1179 NaN                      United Kingdom (UK)             Europe          \n",
       "1107 NaN                      United States of America (USA)  North America   \n",
       "1114  1.0                     Sweden                          Europe          \n",
       "\n",
       "                                  Sector       Status                 Date  \\\n",
       "1179  Healthcare Equipment and Supplies   Targets Set  2021-01-28 00:00:00   \n",
       "1107  Electrical Equipment and Machinery  Committed    2021-01-07 00:00:00   \n",
       "1114  Retailing                           Committed    2021-01-07 00:00:00   \n",
       "\n",
       "      Date Explanation  \\\n",
       "1179 NaN                 \n",
       "1107 NaN                 \n",
       "1114 NaN                 \n",
       "\n",
       "                                                                                                                                                                                                                                                                                                                                                 Target  \\\n",
       "1179  \"This target was approved using a streamlined target validation route exclusive to small and medium-sized enterprises (SMEs). https://sciencebasedtargets.org/faqs-for-smes/\\nPal International commits to reduce absolute scope 1 and scope 2 GHG emissions 50% by 2030 from a 2018 base year, and to measure and reduce its scope 3 emissions.\"   \n",
       "1107  NaN                                                                                                                                                                                                                                                                                                                                                 \n",
       "1114  NaN                                                                                                                                                                                                                                                                                                                                                 \n",
       "\n",
       "                                                                                                                                         Target Classification  \n",
       "1179  The targets covering greenhouse gas emissions from company operations (scopes 1 and 2) are consistent with reductions required to keep warming to 1.5°C.  \n",
       "1107  NaN                                                                                                                                                       \n",
       "1114  NaN                                                                                                                                                       "
      ]
     },
     "execution_count": 49,
     "metadata": {},
     "output_type": "execute_result"
    }
   ],
   "source": [
    "df.sample(3)"
   ]
  },
  {
   "cell_type": "code",
   "execution_count": 27,
   "metadata": {},
   "outputs": [
    {
     "name": "stdout",
     "output_type": "stream",
     "text": [
      "nan\n"
     ]
    }
   ],
   "source": []
  },
  {
   "cell_type": "code",
   "execution_count": 30,
   "metadata": {},
   "outputs": [
    {
     "data": {
      "text/plain": [
       "0        True\n",
       "1        True\n",
       "2        True\n",
       "3        True\n",
       "4       False\n",
       "        ...  \n",
       "1177     True\n",
       "1178     True\n",
       "1179     True\n",
       "1180     True\n",
       "1181     True\n",
       "Name: Status, Length: 1182, dtype: bool"
      ]
     },
     "execution_count": 30,
     "metadata": {},
     "output_type": "execute_result"
    }
   ],
   "source": [
    "filter = df[\"Status\"] == \"Targets Set\"\n",
    "filter"
   ]
  },
  {
   "cell_type": "markdown",
   "metadata": {},
   "source": [
    "This statment`pd.set_option(\"display.max_colwidth\", -1)`, let you see full text."
   ]
  },
  {
   "cell_type": "code",
   "execution_count": 158,
   "metadata": {},
   "outputs": [
    {
     "name": "stderr",
     "output_type": "stream",
     "text": [
      "/Users/frankliang/opt/anaconda3/lib/python3.7/site-packages/ipykernel_launcher.py:1: FutureWarning: Passing a negative integer is deprecated in version 1.0 and will not be supported in future version. Instead, use None to not limit the column width.\n",
      "  \"\"\"Entry point for launching an IPython kernel.\n"
     ]
    },
    {
     "data": {
      "text/html": [
       "<div>\n",
       "<style scoped>\n",
       "    .dataframe tbody tr th:only-of-type {\n",
       "        vertical-align: middle;\n",
       "    }\n",
       "\n",
       "    .dataframe tbody tr th {\n",
       "        vertical-align: top;\n",
       "    }\n",
       "\n",
       "    .dataframe thead th {\n",
       "        text-align: right;\n",
       "    }\n",
       "</style>\n",
       "<table border=\"1\" class=\"dataframe\">\n",
       "  <thead>\n",
       "    <tr style=\"text-align: right;\">\n",
       "      <th></th>\n",
       "      <th>Company Name</th>\n",
       "      <th>Target</th>\n",
       "    </tr>\n",
       "  </thead>\n",
       "  <tbody>\n",
       "    <tr>\n",
       "      <th>9</th>\n",
       "      <td>Accenture PLC</td>\n",
       "      <td>Global management consulting and professional services firm Accenture commits to reduce absolute scope 1, 2 and 3 GHG emissions 11% by 2025 from a 2016 base-year. This target includes a 65% reduction in scope 1 and 2 emissions, and represents a 40% per unit of revenue intensity reduction for scope 1, 2 and 3 GHG emissions over the same time period.</td>\n",
       "    </tr>\n",
       "    <tr>\n",
       "      <th>84</th>\n",
       "      <td>AstraZeneca</td>\n",
       "      <td>\\nMultinational pharmaceutical and biopharmaceutical company AstraZeneca commits to reduce absolute scope 1 emissions 20% and scope 2 emissions 95% from 2015 – 2025. In addition, the company will reduce all scope 3 emissions 25% per million USD of sales within the same timeframe.\\nTo support the achievement of the Scope 3 intensity target the company set the following sub-goals: 1) reduce GHG emissions from waste incineration, business air travel, freight &amp; logistics and first tier active pharmaceutical ingredients and formulation &amp; packaging suppliers (&gt;90% of category spend, energy only) 20% by 2025 from a 2015 base-year, 2) reduce GHG emissions per device from patient use of inhaler therapy devices over the same time period and 3) improve primary data collection within Scope 3 value chain greenhouse gas accounting by 2020.\\n</td>\n",
       "    </tr>\n",
       "    <tr>\n",
       "      <th>219</th>\n",
       "      <td>CSX Corporation</td>\n",
       "      <td>\\nCSX commits to reduce scope 1 and 2 GHG emissions intensity 37% per million gross ton miles by 2029 from a 2014 base year.\\n</td>\n",
       "    </tr>\n",
       "    <tr>\n",
       "      <th>238</th>\n",
       "      <td>Dell Technologies</td>\n",
       "      <td>\\nMultinational computer technology company Dell Technologies commits to reduce its scope 1 and 2 absolute emissions 40% by 2020 from a 2010 base-year. The company also commits to reduce the energy intensity of their product portfolio 80% by 2020, using a 2011 base-year.  Read the Dell Case Study.\\n</td>\n",
       "    </tr>\n",
       "    <tr>\n",
       "      <th>414</th>\n",
       "      <td>HP Inc</td>\n",
       "      <td>\\nAmerican multinational information technology company HP Inc. commits to reduce scope 1 and 2 GHG emissions 60% by 2025, using a 2015 base year. HP Inc commits to reduce product use GHG emissions intensity (lifetime use emissions per unit shipped), including emissions resulting from both HP products' energy use and paper use, 30% by 2025 from a 2015 base year. This includes a commitment to reduce product use GHG emissions intensity for energy use 30% by 2025 from a 2015 base year. HP further commits to reduce the scope 3 emissions intensity from first-tier production and product transportation suppliers (emissions per million US$ revenue) 10% by 2025, using a 2015 base year.\\n</td>\n",
       "    </tr>\n",
       "    <tr>\n",
       "      <th>466</th>\n",
       "      <td>Kellogg Company</td>\n",
       "      <td>\\nMultinational food manufacturing company Kellogg Company commits to a 15% reduction in emissions intensity (tonne of CO2e per tonne of food produced) by 2020 from a 2015 base-year (scopes 1 &amp; 2). Kellogg commits to reduce absolute value chain emissions by 20% from 2015-2030 (scope 3). Kellogg also has a long-term target of a 65% absolute reduction in emissions by 2050 from a 2015 base-year (scopes 1 &amp; 2) and to reduce absolute value chain emissions by 50% from 2015-2050 (scope 3). Read the Kellogg Case Study.\\n</td>\n",
       "    </tr>\n",
       "    <tr>\n",
       "      <th>521</th>\n",
       "      <td>Logista</td>\n",
       "      <td>\\nLogista commits to reduce its scope 1, 2 and 3 emissions by 30% per million Euro value added x million km distance travelled, from 2013 to 2030. The company further plans to reduce the emissions intensity 50% from 2013 levels by 2050.\\n</td>\n",
       "    </tr>\n",
       "    <tr>\n",
       "      <th>570</th>\n",
       "      <td>McDonald's Corporation</td>\n",
       "      <td>\\nAmerican multi-national fast food company McDonald's Corporation will partner with franchisees to cut greenhouse gas emissions to McDonald's restaurants and offices by 36% by 2030 from a 2015 base year.  Through collaboration and partnership with our suppliers and producers, McDonald's also commits to a 31% reduction in emissions intensity (per metric ton of food and packaging) across our supply chain by 2030 from 2015 levels.\\n</td>\n",
       "    </tr>\n",
       "    <tr>\n",
       "      <th>585</th>\n",
       "      <td>Microsoft Corporation</td>\n",
       "      <td>\\nAmerican multinational technology company Microsoft commits to continue annually source 100% renewable electricity through 2030. Microsoft also commits to reduce scope 3 GHG emissions intensity per unit of revenue 30% by 2030 from a 2017 base year and to avoid growth in absolute scope 3 emissions.\\n</td>\n",
       "    </tr>\n",
       "    <tr>\n",
       "      <th>613</th>\n",
       "      <td>Multiplex Constructions, Middle East</td>\n",
       "      <td>\\nMultiplex Constructions, Middle East commits to reduce absolute scope 1 and 2 GHG emissions 63% by 2033 from a 2018 base year*. Multiplex Constructions, Middle East commits to reduce scope 3 emissions intensity 30% per square meter by 2033 from a 2018 base year.\\n*The target boundary includes biogenic emissions and removals from bioenergy feedstocks\\n</td>\n",
       "    </tr>\n",
       "    <tr>\n",
       "      <th>813</th>\n",
       "      <td>SOK Corporation</td>\n",
       "      <td>\\nS Group commits to reduce absolute scope 1 and 2 GHG emissions 90% by 2030 from a 2015 base year. S Group commits that 67 % of its suppliers by spend covering purchased goods and services will set science-based targets by 2023. S Group commits to reduce the GHG emissions intensity per liter of fuel sold by more than 21 % by the end of 2030 from a 2015 baseline.\\n</td>\n",
       "    </tr>\n",
       "    <tr>\n",
       "      <th>914</th>\n",
       "      <td>TODA Corporation</td>\n",
       "      <td>\\nConstruction company TODA Corporation commits to reduce absolute Scope 1 and 2 carbon dioxide emissions by 35 percent between 2010 and 2030, based on a 2.1 percent compounding annual reduction target. The annual and mid-term targets support TODA Corporation's 2050 goal of reducing scope 1 and 2 CO2 emissions by 57 percent below 2010 levels. To address value chain emissions, TODA Corporation also commits to reduce the Scope 3 emissions intensity of its constructed product by 55 percent between 2010 and 2050.\\n</td>\n",
       "    </tr>\n",
       "  </tbody>\n",
       "</table>\n",
       "</div>"
      ],
      "text/plain": [
       "                             Company Name  \\\n",
       "9    Accenture PLC                          \n",
       "84   AstraZeneca                            \n",
       "219  CSX Corporation                        \n",
       "238  Dell Technologies                      \n",
       "414  HP Inc                                 \n",
       "466  Kellogg Company                        \n",
       "521  Logista                                \n",
       "570  McDonald's Corporation                 \n",
       "585  Microsoft Corporation                  \n",
       "613  Multiplex Constructions, Middle East   \n",
       "813  SOK Corporation                        \n",
       "914  TODA Corporation                       \n",
       "\n",
       "                                                                                                                                                                                                                                                                                                                                                                                                                                                                                                                                                                                                                                                                                                                                                                                                                                                                      Target  \n",
       "9    Global management consulting and professional services firm Accenture commits to reduce absolute scope 1, 2 and 3 GHG emissions 11% by 2025 from a 2016 base-year. This target includes a 65% reduction in scope 1 and 2 emissions, and represents a 40% per unit of revenue intensity reduction for scope 1, 2 and 3 GHG emissions over the same time period.                                                                                                                                                                                                                                                                                                                                                                                                                                                                                                           \n",
       "84   \\nMultinational pharmaceutical and biopharmaceutical company AstraZeneca commits to reduce absolute scope 1 emissions 20% and scope 2 emissions 95% from 2015 – 2025. In addition, the company will reduce all scope 3 emissions 25% per million USD of sales within the same timeframe.\\nTo support the achievement of the Scope 3 intensity target the company set the following sub-goals: 1) reduce GHG emissions from waste incineration, business air travel, freight & logistics and first tier active pharmaceutical ingredients and formulation & packaging suppliers (>90% of category spend, energy only) 20% by 2025 from a 2015 base-year, 2) reduce GHG emissions per device from patient use of inhaler therapy devices over the same time period and 3) improve primary data collection within Scope 3 value chain greenhouse gas accounting by 2020.\\n  \n",
       "219  \\nCSX commits to reduce scope 1 and 2 GHG emissions intensity 37% per million gross ton miles by 2029 from a 2014 base year.\\n                                                                                                                                                                                                                                                                                                                                                                                                                                                                                                                                                                                                                                                                                                                                           \n",
       "238  \\nMultinational computer technology company Dell Technologies commits to reduce its scope 1 and 2 absolute emissions 40% by 2020 from a 2010 base-year. The company also commits to reduce the energy intensity of their product portfolio 80% by 2020, using a 2011 base-year.  Read the Dell Case Study.\\n                                                                                                                                                                                                                                                                                                                                                                                                                                                                                                                                                             \n",
       "414  \\nAmerican multinational information technology company HP Inc. commits to reduce scope 1 and 2 GHG emissions 60% by 2025, using a 2015 base year. HP Inc commits to reduce product use GHG emissions intensity (lifetime use emissions per unit shipped), including emissions resulting from both HP products' energy use and paper use, 30% by 2025 from a 2015 base year. This includes a commitment to reduce product use GHG emissions intensity for energy use 30% by 2025 from a 2015 base year. HP further commits to reduce the scope 3 emissions intensity from first-tier production and product transportation suppliers (emissions per million US$ revenue) 10% by 2025, using a 2015 base year.\\n                                                                                                                                                          \n",
       "466  \\nMultinational food manufacturing company Kellogg Company commits to a 15% reduction in emissions intensity (tonne of CO2e per tonne of food produced) by 2020 from a 2015 base-year (scopes 1 & 2). Kellogg commits to reduce absolute value chain emissions by 20% from 2015-2030 (scope 3). Kellogg also has a long-term target of a 65% absolute reduction in emissions by 2050 from a 2015 base-year (scopes 1 & 2) and to reduce absolute value chain emissions by 50% from 2015-2050 (scope 3). Read the Kellogg Case Study.\\n                                                                                                                                                                                                                                                                                                                                   \n",
       "521  \\nLogista commits to reduce its scope 1, 2 and 3 emissions by 30% per million Euro value added x million km distance travelled, from 2013 to 2030. The company further plans to reduce the emissions intensity 50% from 2013 levels by 2050.\\n                                                                                                                                                                                                                                                                                                                                                                                                                                                                                                                                                                                                                           \n",
       "570  \\nAmerican multi-national fast food company McDonald's Corporation will partner with franchisees to cut greenhouse gas emissions to McDonald's restaurants and offices by 36% by 2030 from a 2015 base year.  Through collaboration and partnership with our suppliers and producers, McDonald's also commits to a 31% reduction in emissions intensity (per metric ton of food and packaging) across our supply chain by 2030 from 2015 levels.\\n                                                                                                                                                                                                                                                                                                                                                                                                                       \n",
       "585  \\nAmerican multinational technology company Microsoft commits to continue annually source 100% renewable electricity through 2030. Microsoft also commits to reduce scope 3 GHG emissions intensity per unit of revenue 30% by 2030 from a 2017 base year and to avoid growth in absolute scope 3 emissions.\\n                                                                                                                                                                                                                                                                                                                                                                                                                                                                                                                                                           \n",
       "613  \\nMultiplex Constructions, Middle East commits to reduce absolute scope 1 and 2 GHG emissions 63% by 2033 from a 2018 base year*. Multiplex Constructions, Middle East commits to reduce scope 3 emissions intensity 30% per square meter by 2033 from a 2018 base year.\\n*The target boundary includes biogenic emissions and removals from bioenergy feedstocks\\n                                                                                                                                                                                                                                                                                                                                                                                                                                                                                                      \n",
       "813  \\nS Group commits to reduce absolute scope 1 and 2 GHG emissions 90% by 2030 from a 2015 base year. S Group commits that 67 % of its suppliers by spend covering purchased goods and services will set science-based targets by 2023. S Group commits to reduce the GHG emissions intensity per liter of fuel sold by more than 21 % by the end of 2030 from a 2015 baseline.\\n                                                                                                                                                                                                                                                                                                                                                                                                                                                                                          \n",
       "914  \\nConstruction company TODA Corporation commits to reduce absolute Scope 1 and 2 carbon dioxide emissions by 35 percent between 2010 and 2030, based on a 2.1 percent compounding annual reduction target. The annual and mid-term targets support TODA Corporation's 2050 goal of reducing scope 1 and 2 CO2 emissions by 57 percent below 2010 levels. To address value chain emissions, TODA Corporation also commits to reduce the Scope 3 emissions intensity of its constructed product by 55 percent between 2010 and 2050.\\n                                                                                                                                                                                                                                                                                                                                     "
      ]
     },
     "execution_count": 158,
     "metadata": {},
     "output_type": "execute_result"
    }
   ],
   "source": [
    "pd.set_option(\"display.max_colwidth\", -1)\n",
    "tgt = df[filter][[\"Company Name\",\"Target\"]]\n",
    "filter_2 = tgt[\"Target\"].str.contains(\"intensity\")\n",
    "tgt[filter_2]"
   ]
  },
  {
   "cell_type": "code",
   "execution_count": 147,
   "metadata": {},
   "outputs": [
    {
     "data": {
      "text/plain": [
       "(571, 2)"
      ]
     },
     "execution_count": 147,
     "metadata": {},
     "output_type": "execute_result"
    }
   ],
   "source": [
    "tgt.shape"
   ]
  },
  {
   "cell_type": "code",
   "execution_count": 76,
   "metadata": {},
   "outputs": [
    {
     "data": {
      "text/plain": [
       "(571, 2)"
      ]
     },
     "execution_count": 76,
     "metadata": {},
     "output_type": "execute_result"
    }
   ],
   "source": [
    "sme = df[filter][[\"Company Name\",\"SME?\"]]\n",
    "sme.shape"
   ]
  },
  {
   "cell_type": "code",
   "execution_count": 71,
   "metadata": {},
   "outputs": [
    {
     "data": {
      "text/plain": [
       "0       True\n",
       "1       True\n",
       "2       True\n",
       "3       True\n",
       "7       True\n",
       "        ... \n",
       "1177    True\n",
       "1178    True\n",
       "1179    True\n",
       "1180    True\n",
       "1181    True\n",
       "Name: SME?, Length: 571, dtype: bool"
      ]
     },
     "execution_count": 71,
     "metadata": {},
     "output_type": "execute_result"
    }
   ],
   "source": [
    "sme[\"SME?\"] == True"
   ]
  },
  {
   "cell_type": "markdown",
   "metadata": {},
   "source": [
    "Countributed by: https://community.plotly.com/t/how-to-plot-bar-plot-from-groupby-values/38987/2\n",
    "\n",
    "groupby convert groupby inside as index and the other as value. \n",
    "barplot is `matplotlib.axes._subplots.AxesSubplot` object. Some code might not work. For [labeling](https://stackoverflow.com/questions/63851316/how-to-assign-some-matplotlib-axes-subplots-axessubplot-side-by-side-in-another)"
   ]
  },
  {
   "cell_type": "code",
   "execution_count": 125,
   "metadata": {},
   "outputs": [
    {
     "data": {
      "text/plain": [
       "matplotlib.axes._subplots.AxesSubplot"
      ]
     },
     "execution_count": 125,
     "metadata": {},
     "output_type": "execute_result"
    },
    {
     "data": {
      "image/png": "[encoded data removed]",
      "text/plain": [
       "<Figure size 432x288 with 1 Axes>"
      ]
     },
     "metadata": {
      "needs_background": "light"
     },
     "output_type": "display_data"
    }
   ],
   "source": [
    "cty = df.groupby([\"Region\"])[\"Company Name\"].count()\n",
    "order = cty.sort_values(ascending = False)\n",
    "ax = sns.barplot(y = cty.index, x = cty,palette = sns.color_palette(\"rocket_r\",6),\n",
    "           order = order.index, orient = \"h\")\n",
    "ax.set_xlabel(\"Number of Companies\")\n",
    "ax.set_ylabel(\"Region\")\n",
    "type(ax)"
   ]
  },
  {
   "cell_type": "code",
   "execution_count": 118,
   "metadata": {},
   "outputs": [
    {
     "data": {
      "text/plain": [
       "Region\n",
       "Europe           595\n",
       "Asia             254\n",
       "North America    230\n",
       "Latin America    48 \n",
       "Oceania          39 \n",
       "Africa           16 \n",
       "Name: Company Name, dtype: int64"
      ]
     },
     "execution_count": 118,
     "metadata": {},
     "output_type": "execute_result"
    }
   ],
   "source": [
    "cty.sort_values(ascending = False)"
   ]
  },
  {
   "cell_type": "code",
   "execution_count": 137,
   "metadata": {},
   "outputs": [
    {
     "data": {
      "text/plain": [
       "Region         Status     \n",
       "Africa         Committed      11 \n",
       "               Targets Set    5  \n",
       "Asia           Committed      123\n",
       "               Targets Set    131\n",
       "Europe         Committed      309\n",
       "               Targets Set    286\n",
       "Latin America  Committed      38 \n",
       "               Targets Set    10 \n",
       "North America  Committed      112\n",
       "               Targets Set    118\n",
       "Oceania        Committed      18 \n",
       "               Targets Set    21 \n",
       "Name: Company Name, dtype: int64"
      ]
     },
     "execution_count": 137,
     "metadata": {},
     "output_type": "execute_result"
    }
   ],
   "source": [
    "df.groupby([\"Region\",\"Status\"])[\"Company Name\"].count()"
   ]
  },
  {
   "cell_type": "code",
   "execution_count": null,
   "metadata": {},
   "outputs": [],
   "source": []
  }
 ],
 "metadata": {
  "kernelspec": {
   "display_name": "Python 3",
   "language": "python",
   "name": "python3"
  },
  "language_info": {
   "codemirror_mode": {
    "name": "ipython",
    "version": 3
   },
   "file_extension": ".py",
   "mimetype": "text/x-python",
   "name": "python",
   "nbconvert_exporter": "python",
   "pygments_lexer": "ipython3",
   "version": "3.7.6"
  }
 },
 "nbformat": 4,
 "nbformat_minor": 4
}
