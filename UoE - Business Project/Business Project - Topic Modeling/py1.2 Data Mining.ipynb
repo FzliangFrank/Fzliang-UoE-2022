{
 "cells": [
  {
   "cell_type": "code",
   "execution_count": 1,
   "metadata": {},
   "outputs": [],
   "source": [
    "import pandas as pd\n",
    "import requests\n",
    "import numpy as np\n",
    "import matplotlib.pyplot as plt\n",
    "\n",
    "import json\n",
    "import time\n",
    "import datetime"
   ]
  },
  {
   "cell_type": "markdown",
   "metadata": {},
   "source": [
    "# Extract Abstract from Research Gate"
   ]
  },
  {
   "cell_type": "markdown",
   "metadata": {},
   "source": [
    "Make dataframe by row (observations):"
   ]
  },
  {
   "cell_type": "code",
   "execution_count": 13,
   "metadata": {},
   "outputs": [],
   "source": [
    "data = [[\"project1\", \"content1\", 1], [\"project2\", \"content2\",2], [\"prj3\", 'cont3', 3]]\n",
    "df = pd.DataFrame(data, columns = ['ID', \"abstract\", \"funding\"])"
   ]
  },
  {
   "cell_type": "code",
   "execution_count": 14,
   "metadata": {},
   "outputs": [],
   "source": [
    "pjx = \"project\"\n",
    "abx = \"abstract\"\n",
    "funding = \"funding\"\n",
    "row = [pjx, abx, funding]"
   ]
  },
  {
   "cell_type": "code",
   "execution_count": 16,
   "metadata": {},
   "outputs": [],
   "source": [
    "data.append(row)"
   ]
  },
  {
   "cell_type": "code",
   "execution_count": 18,
   "metadata": {},
   "outputs": [],
   "source": [
    "df = pd.DataFrame(data, columns = ['ID', \"abstract\", \"funding\"])"
   ]
  },
  {
   "cell_type": "code",
   "execution_count": 19,
   "metadata": {},
   "outputs": [
    {
     "data": {
      "text/html": [
       "<div>\n",
       "<style scoped>\n",
       "    .dataframe tbody tr th:only-of-type {\n",
       "        vertical-align: middle;\n",
       "    }\n",
       "\n",
       "    .dataframe tbody tr th {\n",
       "        vertical-align: top;\n",
       "    }\n",
       "\n",
       "    .dataframe thead th {\n",
       "        text-align: right;\n",
       "    }\n",
       "</style>\n",
       "<table border=\"1\" class=\"dataframe\">\n",
       "  <thead>\n",
       "    <tr style=\"text-align: right;\">\n",
       "      <th></th>\n",
       "      <th>ID</th>\n",
       "      <th>abstract</th>\n",
       "      <th>funding</th>\n",
       "    </tr>\n",
       "  </thead>\n",
       "  <tbody>\n",
       "    <tr>\n",
       "      <th>0</th>\n",
       "      <td>project1</td>\n",
       "      <td>content1</td>\n",
       "      <td>1</td>\n",
       "    </tr>\n",
       "    <tr>\n",
       "      <th>1</th>\n",
       "      <td>project2</td>\n",
       "      <td>content2</td>\n",
       "      <td>2</td>\n",
       "    </tr>\n",
       "    <tr>\n",
       "      <th>2</th>\n",
       "      <td>prj3</td>\n",
       "      <td>cont3</td>\n",
       "      <td>3</td>\n",
       "    </tr>\n",
       "    <tr>\n",
       "      <th>3</th>\n",
       "      <td>project</td>\n",
       "      <td>abstract</td>\n",
       "      <td>funding</td>\n",
       "    </tr>\n",
       "  </tbody>\n",
       "</table>\n",
       "</div>"
      ],
      "text/plain": [
       "         ID  abstract  funding\n",
       "0  project1  content1        1\n",
       "1  project2  content2        2\n",
       "2      prj3     cont3        3\n",
       "3   project  abstract  funding"
      ]
     },
     "execution_count": 19,
     "metadata": {},
     "output_type": "execute_result"
    }
   ],
   "source": [
    "df"
   ]
  },
  {
   "cell_type": "markdown",
   "metadata": {},
   "source": [
    "Define target dataframe to extract:"
   ]
  },
  {
   "cell_type": "code",
   "execution_count": null,
   "metadata": {},
   "outputs": [],
   "source": [
    "data = [[\"ID\", \"titles\", \"abstract\", \"funding start date\"]]"
   ]
  },
  {
   "cell_type": "markdown",
   "metadata": {},
   "source": [
    "## A For Loop for Mining Text data with reference ID"
   ]
  },
  {
   "cell_type": "markdown",
   "metadata": {},
   "source": [
    "Maximum page is 34 by 25 pages. But because this is python so you need `range(1,35)`. Following code gonna take a while to execute:"
   ]
  },
  {
   "cell_type": "code",
   "execution_count": 60,
   "metadata": {},
   "outputs": [],
   "source": [
    "df = pd.DataFrame(columns = ['id', \"title\", \"abstractText\", \"techAbstractText\",\"potentialImpact\"])\n",
    "i = int()\n",
    "for i in range(1,35):\n",
    "    parameters = {\n",
    "        \"q\":\"artificial intelligence\",\n",
    "        \"s\":25,\n",
    "        \"p\":i,\n",
    "        \"f\":\"pro.rt\" # search in project topic \n",
    "    }\n",
    "    url = \"https://gtr.ukri.org/gtr/api/projects.json?sf=pro.sd&so=A\" # sort by project start date Decending (D) Acending(A)\n",
    "\n",
    "    response = requests.get(url, params = parameters)\n",
    "    x = response.json()\n",
    "    dfx = pd.DataFrame.from_dict(x['project'])[[\"id\",\"title\",\"abstractText\",\"techAbstractText\",'potentialImpact']]\n",
    "    df = pd.concat([df,dfx])"
   ]
  },
  {
   "cell_type": "code",
   "execution_count": 62,
   "metadata": {},
   "outputs": [
    {
     "data": {
      "text/html": [
       "<div>\n",
       "<style scoped>\n",
       "    .dataframe tbody tr th:only-of-type {\n",
       "        vertical-align: middle;\n",
       "    }\n",
       "\n",
       "    .dataframe tbody tr th {\n",
       "        vertical-align: top;\n",
       "    }\n",
       "\n",
       "    .dataframe thead th {\n",
       "        text-align: right;\n",
       "    }\n",
       "</style>\n",
       "<table border=\"1\" class=\"dataframe\">\n",
       "  <thead>\n",
       "    <tr style=\"text-align: right;\">\n",
       "      <th></th>\n",
       "      <th>id</th>\n",
       "      <th>title</th>\n",
       "      <th>abstractText</th>\n",
       "      <th>techAbstractText</th>\n",
       "      <th>potentialImpact</th>\n",
       "    </tr>\n",
       "  </thead>\n",
       "  <tbody>\n",
       "    <tr>\n",
       "      <th>0</th>\n",
       "      <td>EF01F1FE-28B2-4D9D-90E0-522062E1E39D</td>\n",
       "      <td>Machine-Understandable Auctions</td>\n",
       "      <td>Context:In the future many services currently ...</td>\n",
       "      <td>None</td>\n",
       "      <td>None</td>\n",
       "    </tr>\n",
       "    <tr>\n",
       "      <th>1</th>\n",
       "      <td>A829AEF9-7EE4-4E75-A82E-96D6986AC296</td>\n",
       "      <td>Automating Simulation Output Analysis (AutoSim...</td>\n",
       "      <td>Simulation models are used in many organisatio...</td>\n",
       "      <td>None</td>\n",
       "      <td>None</td>\n",
       "    </tr>\n",
       "    <tr>\n",
       "      <th>2</th>\n",
       "      <td>ECCA920F-7D7D-48AA-A23C-591D230CD6AD</td>\n",
       "      <td>Feasibility Study: Integrating Games-Based Lea...</td>\n",
       "      <td>MRSA is a 'super-bug' that is difficult to con...</td>\n",
       "      <td>None</td>\n",
       "      <td>None</td>\n",
       "    </tr>\n",
       "    <tr>\n",
       "      <th>3</th>\n",
       "      <td>A7DCF5FE-8648-4182-9D46-C2D6350FF288</td>\n",
       "      <td>Novel Approaches to Radiotherapy Planning and ...</td>\n",
       "      <td>The problem of efficient radiotherapy planning...</td>\n",
       "      <td>None</td>\n",
       "      <td>None</td>\n",
       "    </tr>\n",
       "    <tr>\n",
       "      <th>4</th>\n",
       "      <td>FB0D07AC-1AD1-4DFA-8CC4-F257CC0B45D6</td>\n",
       "      <td>The White Rose Grid e-Science Centre</td>\n",
       "      <td>This proposal is in support of the continuatio...</td>\n",
       "      <td>None</td>\n",
       "      <td>None</td>\n",
       "    </tr>\n",
       "    <tr>\n",
       "      <th>...</th>\n",
       "      <td>...</td>\n",
       "      <td>...</td>\n",
       "      <td>...</td>\n",
       "      <td>...</td>\n",
       "      <td>...</td>\n",
       "    </tr>\n",
       "    <tr>\n",
       "      <th>8</th>\n",
       "      <td>09D38BFD-5498-43EE-ACB2-5F41D789408A</td>\n",
       "      <td>Datasounds, datasets and datasense: Unboxing t...</td>\n",
       "      <td>This network aims to identify core questions t...</td>\n",
       "      <td>None</td>\n",
       "      <td>None</td>\n",
       "    </tr>\n",
       "    <tr>\n",
       "      <th>9</th>\n",
       "      <td>8799DA1B-E687-44D8-95EF-B84222F584ED</td>\n",
       "      <td>MAESTRO Jr. - Multi-sensing AI Environment for...</td>\n",
       "      <td>This project is about devising and implementin...</td>\n",
       "      <td>None</td>\n",
       "      <td>None</td>\n",
       "    </tr>\n",
       "    <tr>\n",
       "      <th>10</th>\n",
       "      <td>6F9D0D31-43E0-43BF-9AC2-02B694F91057</td>\n",
       "      <td>Digital Roads</td>\n",
       "      <td>This partnership started 10 years ago, when Co...</td>\n",
       "      <td>None</td>\n",
       "      <td>None</td>\n",
       "    </tr>\n",
       "    <tr>\n",
       "      <th>11</th>\n",
       "      <td>E2C13423-027B-4700-B2A1-3C9367F90891</td>\n",
       "      <td>AMBITION: AI-driven biomedical robotic automat...</td>\n",
       "      <td>Artificial Intelligence (AI) is transforming t...</td>\n",
       "      <td>None</td>\n",
       "      <td>None</td>\n",
       "    </tr>\n",
       "    <tr>\n",
       "      <th>12</th>\n",
       "      <td>328EBE5A-3D5C-492F-9230-7532B9460E6B</td>\n",
       "      <td>Unlocking spiking neural networks for machine ...</td>\n",
       "      <td>In the last decade there has been an explosion...</td>\n",
       "      <td>None</td>\n",
       "      <td>None</td>\n",
       "    </tr>\n",
       "  </tbody>\n",
       "</table>\n",
       "<p>838 rows × 5 columns</p>\n",
       "</div>"
      ],
      "text/plain": [
       "                                      id  \\\n",
       "0   EF01F1FE-28B2-4D9D-90E0-522062E1E39D   \n",
       "1   A829AEF9-7EE4-4E75-A82E-96D6986AC296   \n",
       "2   ECCA920F-7D7D-48AA-A23C-591D230CD6AD   \n",
       "3   A7DCF5FE-8648-4182-9D46-C2D6350FF288   \n",
       "4   FB0D07AC-1AD1-4DFA-8CC4-F257CC0B45D6   \n",
       "..                                   ...   \n",
       "8   09D38BFD-5498-43EE-ACB2-5F41D789408A   \n",
       "9   8799DA1B-E687-44D8-95EF-B84222F584ED   \n",
       "10  6F9D0D31-43E0-43BF-9AC2-02B694F91057   \n",
       "11  E2C13423-027B-4700-B2A1-3C9367F90891   \n",
       "12  328EBE5A-3D5C-492F-9230-7532B9460E6B   \n",
       "\n",
       "                                                title  \\\n",
       "0                     Machine-Understandable Auctions   \n",
       "1   Automating Simulation Output Analysis (AutoSim...   \n",
       "2   Feasibility Study: Integrating Games-Based Lea...   \n",
       "3   Novel Approaches to Radiotherapy Planning and ...   \n",
       "4                The White Rose Grid e-Science Centre   \n",
       "..                                                ...   \n",
       "8   Datasounds, datasets and datasense: Unboxing t...   \n",
       "9   MAESTRO Jr. - Multi-sensing AI Environment for...   \n",
       "10                                      Digital Roads   \n",
       "11  AMBITION: AI-driven biomedical robotic automat...   \n",
       "12  Unlocking spiking neural networks for machine ...   \n",
       "\n",
       "                                         abstractText techAbstractText  \\\n",
       "0   Context:In the future many services currently ...             None   \n",
       "1   Simulation models are used in many organisatio...             None   \n",
       "2   MRSA is a 'super-bug' that is difficult to con...             None   \n",
       "3   The problem of efficient radiotherapy planning...             None   \n",
       "4   This proposal is in support of the continuatio...             None   \n",
       "..                                                ...              ...   \n",
       "8   This network aims to identify core questions t...             None   \n",
       "9   This project is about devising and implementin...             None   \n",
       "10  This partnership started 10 years ago, when Co...             None   \n",
       "11  Artificial Intelligence (AI) is transforming t...             None   \n",
       "12  In the last decade there has been an explosion...             None   \n",
       "\n",
       "   potentialImpact  \n",
       "0             None  \n",
       "1             None  \n",
       "2             None  \n",
       "3             None  \n",
       "4             None  \n",
       "..             ...  \n",
       "8             None  \n",
       "9             None  \n",
       "10            None  \n",
       "11            None  \n",
       "12            None  \n",
       "\n",
       "[838 rows x 5 columns]"
      ]
     },
     "execution_count": 62,
     "metadata": {},
     "output_type": "execute_result"
    }
   ],
   "source": [
    "df"
   ]
  },
  {
   "cell_type": "code",
   "execution_count": 69,
   "metadata": {},
   "outputs": [
    {
     "data": {
      "text/plain": [
       "'/Users/frankliang/Dropbox/Projects/Business Project - Topic Modeling'"
      ]
     },
     "execution_count": 69,
     "metadata": {},
     "output_type": "execute_result"
    }
   ],
   "source": [
    "import os\n",
    "os.getcwd()"
   ]
  },
  {
   "cell_type": "code",
   "execution_count": 70,
   "metadata": {},
   "outputs": [],
   "source": [
    "df.to_csv(\"raw/abstractText.csv\")"
   ]
  }
 ],
 "metadata": {
  "kernelspec": {
   "display_name": "Python 3",
   "language": "python",
   "name": "python3"
  },
  "language_info": {
   "codemirror_mode": {
    "name": "ipython",
    "version": 3
   },
   "file_extension": ".py",
   "mimetype": "text/x-python",
   "name": "python",
   "nbconvert_exporter": "python",
   "pygments_lexer": "ipython3",
   "version": "3.7.6"
  }
 },
 "nbformat": 4,
 "nbformat_minor": 4
}
