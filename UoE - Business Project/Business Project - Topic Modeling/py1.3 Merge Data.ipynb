{
 "cells": [
  {
   "cell_type": "code",
   "execution_count": 33,
   "metadata": {},
   "outputs": [],
   "source": [
    "import pandas as pd\n",
    "import requests\n",
    "import numpy as np\n",
    "import matplotlib.pyplot as plt\n",
    "\n",
    "import json\n",
    "import time\n",
    "import datetime\n",
    "import seaborn as sns"
   ]
  },
  {
   "cell_type": "code",
   "execution_count": 4,
   "metadata": {},
   "outputs": [],
   "source": [
    "abstract = pd.read_csv(\"raw/abstractText.csv\")"
   ]
  },
  {
   "cell_type": "code",
   "execution_count": 7,
   "metadata": {},
   "outputs": [],
   "source": [
    "topic = pd.read_csv('raw/AIbyTopic.csv')"
   ]
  },
  {
   "cell_type": "code",
   "execution_count": 98,
   "metadata": {},
   "outputs": [
    {
     "name": "stdout",
     "output_type": "stream",
     "text": [
      "<class 'pandas.core.frame.DataFrame'>\n",
      "RangeIndex: 838 entries, 0 to 837\n",
      "Data columns (total 31 columns):\n",
      " #   Column                 Non-Null Count  Dtype  \n",
      "---  ------                 --------------  -----  \n",
      " 0   FundingOrgName         838 non-null    object \n",
      " 1   ProjectReference       838 non-null    object \n",
      " 2   LeadROName             838 non-null    object \n",
      " 3   Department             838 non-null    object \n",
      " 4   ProjectCategory        838 non-null    object \n",
      " 5   PISurname              838 non-null    object \n",
      " 6   PIFirstName            838 non-null    object \n",
      " 7   PIOtherNames           196 non-null    object \n",
      " 8   PI ORCID iD            230 non-null    object \n",
      " 9   StudentSurname         0 non-null      float64\n",
      " 10  StudentFirstName       0 non-null      float64\n",
      " 11  StudentOtherNames      0 non-null      float64\n",
      " 12  Student ORCID iD       0 non-null      float64\n",
      " 13  Title                  838 non-null    object \n",
      " 14  StartDate              838 non-null    object \n",
      " 15  EndDate                838 non-null    object \n",
      " 16  AwardPounds            838 non-null    int64  \n",
      " 17  ExpenditurePounds      0 non-null      float64\n",
      " 18  Region                 0 non-null      float64\n",
      " 19  Status                 838 non-null    object \n",
      " 20  Classifications 1      838 non-null    object \n",
      " 21  Classifications 2      735 non-null    object \n",
      " 22  Classifications 3      480 non-null    object \n",
      " 23  Classifications 4      271 non-null    object \n",
      " 24  Classifications 5      131 non-null    object \n",
      " 25  Other Classifications  23 non-null     object \n",
      " 26  GTRProjectUrl          838 non-null    object \n",
      " 27  ProjectId              838 non-null    object \n",
      " 28  FundingOrgId           838 non-null    object \n",
      " 29  LeadROId               838 non-null    object \n",
      " 30  PIId                   837 non-null    object \n",
      "dtypes: float64(6), int64(1), object(24)\n",
      "memory usage: 203.1+ KB\n"
     ]
    }
   ],
   "source": [
    "topic.info()"
   ]
  },
  {
   "cell_type": "code",
   "execution_count": 99,
   "metadata": {},
   "outputs": [],
   "source": [
    "df = topic[[\"ProjectId\",\"Title\",\"AwardPounds\",\"StartDate\", \"EndDate\"]].merge(abstract, left_on = \"ProjectId\", right_on = \"id\", how = \"inner\")"
   ]
  },
  {
   "cell_type": "code",
   "execution_count": 31,
   "metadata": {},
   "outputs": [
    {
     "data": {
      "text/plain": [
       "(838, 31)"
      ]
     },
     "execution_count": 31,
     "metadata": {},
     "output_type": "execute_result"
    }
   ],
   "source": [
    "df.shape"
   ]
  },
  {
   "cell_type": "code",
   "execution_count": 27,
   "metadata": {},
   "outputs": [
    {
     "data": {
      "text/plain": [
       "(838, 6)"
      ]
     },
     "execution_count": 27,
     "metadata": {},
     "output_type": "execute_result"
    }
   ],
   "source": [
    "abstract.shape"
   ]
  },
  {
   "cell_type": "code",
   "execution_count": 30,
   "metadata": {},
   "outputs": [
    {
     "data": {
      "text/plain": [
       "(838, 31)"
      ]
     },
     "execution_count": 30,
     "metadata": {},
     "output_type": "execute_result"
    }
   ],
   "source": [
    "topic.shape"
   ]
  },
  {
   "cell_type": "markdown",
   "metadata": {},
   "source": [
    "So exam the table, nothing is ommited, everthing is joint perfectly together"
   ]
  },
  {
   "cell_type": "code",
   "execution_count": 64,
   "metadata": {},
   "outputs": [
    {
     "data": {
      "text/plain": [
       "287    30/05/2012\n",
       "687    21/12/2009\n",
       "71     01/09/2017\n",
       "306    01/10/2009\n",
       "668    01/11/2007\n",
       "Name: StartDate, dtype: object"
      ]
     },
     "execution_count": 64,
     "metadata": {},
     "output_type": "execute_result"
    }
   ],
   "source": [
    "df[\"StartDate\"].sample(5) # DD-MM-YY"
   ]
  },
  {
   "cell_type": "code",
   "execution_count": 65,
   "metadata": {},
   "outputs": [
    {
     "data": {
      "text/plain": [
       "0    01/11/2012\n",
       "1    01/02/2020\n",
       "Name: StartDate, dtype: object"
      ]
     },
     "execution_count": 65,
     "metadata": {},
     "output_type": "execute_result"
    }
   ],
   "source": [
    "df[\"StartDate\"].head(2)"
   ]
  },
  {
   "cell_type": "code",
   "execution_count": 120,
   "metadata": {},
   "outputs": [],
   "source": [
    "df['StartDate'] = pd.to_datetime(df[\"StartDate\"], format='%d/%m/%Y')\n",
    "df['EndDate'] = pd.to_datetime(df[\"EndDate\"], format='%d/%m/%Y')\n",
    "df['duration'] = pd.to_timedelta(df['EndDate'] - df['StartDate'])\n",
    "df['wagerate'] = df['AwardPounds']/df['duration'].dt.days"
   ]
  },
  {
   "cell_type": "markdown",
   "metadata": {},
   "source": [
    "## First Glance of AI Funding"
   ]
  },
  {
   "cell_type": "code",
   "execution_count": 134,
   "metadata": {},
   "outputs": [
    {
     "data": {
      "text/plain": [
       "<seaborn.axisgrid.FacetGrid at 0x7fbff3b32d10>"
      ]
     },
     "execution_count": 134,
     "metadata": {},
     "output_type": "execute_result"
    },
    {
     "data": {
      "image/png": "[encoded data removed]",
      "text/plain": [
       "<Figure size 360x360 with 1 Axes>"
      ]
     },
     "metadata": {
      "needs_background": "light"
     },
     "output_type": "display_data"
    }
   ],
   "source": [
    "sns.displot(df['wagerate']).set(xlim = (0, 1500))"
   ]
  },
  {
   "cell_type": "code",
   "execution_count": 136,
   "metadata": {},
   "outputs": [
    {
     "data": {
      "text/plain": [
       "680.5340461170013"
      ]
     },
     "execution_count": 136,
     "metadata": {},
     "output_type": "execute_result"
    }
   ],
   "source": [
    "df['wagerate'].mean()"
   ]
  },
  {
   "cell_type": "code",
   "execution_count": 137,
   "metadata": {},
   "outputs": [
    {
     "data": {
      "text/plain": [
       "303.597573446721"
      ]
     },
     "execution_count": 137,
     "metadata": {},
     "output_type": "execute_result"
    }
   ],
   "source": [
    "df['wagerate'].median()"
   ]
  },
  {
   "cell_type": "markdown",
   "metadata": {},
   "source": [
    "Just first exploration of the data. The average AI funding is 680 pound per day. This could be greatly misleading given some of the UK  "
   ]
  },
  {
   "cell_type": "code",
   "execution_count": 140,
   "metadata": {},
   "outputs": [],
   "source": [
    "#df.to_csv(\"raw/complete.csv\")"
   ]
  },
  {
   "cell_type": "code",
   "execution_count": 209,
   "metadata": {},
   "outputs": [
    {
     "data": {
      "text/html": [
       "<div>\n",
       "<style scoped>\n",
       "    .dataframe tbody tr th:only-of-type {\n",
       "        vertical-align: middle;\n",
       "    }\n",
       "\n",
       "    .dataframe tbody tr th {\n",
       "        vertical-align: top;\n",
       "    }\n",
       "\n",
       "    .dataframe thead th {\n",
       "        text-align: right;\n",
       "    }\n",
       "</style>\n",
       "<table border=\"1\" class=\"dataframe\">\n",
       "  <thead>\n",
       "    <tr style=\"text-align: right;\">\n",
       "      <th></th>\n",
       "      <th></th>\n",
       "      <th>AwardPounds</th>\n",
       "    </tr>\n",
       "    <tr>\n",
       "      <th>FundingOrgName</th>\n",
       "      <th>FundingOrgId</th>\n",
       "      <th></th>\n",
       "    </tr>\n",
       "  </thead>\n",
       "  <tbody>\n",
       "    <tr>\n",
       "      <th>AHRC</th>\n",
       "      <th>1291772D-DFCE-493A-AEE7-24F7EEAFE0E9</th>\n",
       "      <td>19796129</td>\n",
       "    </tr>\n",
       "    <tr>\n",
       "      <th>BBSRC</th>\n",
       "      <th>2512EF1C-401B-4222-9869-A770D4C5FAC7</th>\n",
       "      <td>6988981</td>\n",
       "    </tr>\n",
       "    <tr>\n",
       "      <th>EPSRC</th>\n",
       "      <th>798CB33D-C79E-4578-83F2-72606407192C</th>\n",
       "      <td>604431797</td>\n",
       "    </tr>\n",
       "    <tr>\n",
       "      <th>ESRC</th>\n",
       "      <th>924BE15C-91F2-4AAD-941A-3F338324B6AE</th>\n",
       "      <td>22537341</td>\n",
       "    </tr>\n",
       "    <tr>\n",
       "      <th>NERC</th>\n",
       "      <th>8A03ED41-E67D-4F4A-B5DD-AAFB272B6471</th>\n",
       "      <td>4667133</td>\n",
       "    </tr>\n",
       "    <tr>\n",
       "      <th>STFC</th>\n",
       "      <th>D7F4F462-0518-4784-908A-D12633C139B3</th>\n",
       "      <td>1625064</td>\n",
       "    </tr>\n",
       "  </tbody>\n",
       "</table>\n",
       "</div>"
      ],
      "text/plain": [
       "                                                     AwardPounds\n",
       "FundingOrgName FundingOrgId                                     \n",
       "AHRC           1291772D-DFCE-493A-AEE7-24F7EEAFE0E9     19796129\n",
       "BBSRC          2512EF1C-401B-4222-9869-A770D4C5FAC7      6988981\n",
       "EPSRC          798CB33D-C79E-4578-83F2-72606407192C    604431797\n",
       "ESRC           924BE15C-91F2-4AAD-941A-3F338324B6AE     22537341\n",
       "NERC           8A03ED41-E67D-4F4A-B5DD-AAFB272B6471      4667133\n",
       "STFC           D7F4F462-0518-4784-908A-D12633C139B3      1625064"
      ]
     },
     "execution_count": 209,
     "metadata": {},
     "output_type": "execute_result"
    }
   ],
   "source": [
    "fundOrg = topic[['AwardPounds','FundingOrgName','FundingOrgId']].groupby([\"FundingOrgName\",\"FundingOrgId\"]).sum()\n",
    "fundOrg"
   ]
  },
  {
   "cell_type": "code",
   "execution_count": 204,
   "metadata": {},
   "outputs": [
    {
     "data": {
      "text/plain": [
       "<seaborn.axisgrid.FacetGrid at 0x7fbff6729990>"
      ]
     },
     "execution_count": 204,
     "metadata": {},
     "output_type": "execute_result"
    },
    {
     "data": {
      "image/png": "[encoded data removed]",
      "text/plain": [
       "<Figure size 360x360 with 1 Axes>"
      ]
     },
     "metadata": {
      "needs_background": "light"
     },
     "output_type": "display_data"
    }
   ],
   "source": [
    "sns.displot(df['duration'].dt.days)"
   ]
  },
  {
   "cell_type": "code",
   "execution_count": 222,
   "metadata": {},
   "outputs": [
    {
     "data": {
      "text/html": [
       "<div>\n",
       "<style scoped>\n",
       "    .dataframe tbody tr th:only-of-type {\n",
       "        vertical-align: middle;\n",
       "    }\n",
       "\n",
       "    .dataframe tbody tr th {\n",
       "        vertical-align: top;\n",
       "    }\n",
       "\n",
       "    .dataframe thead th {\n",
       "        text-align: right;\n",
       "    }\n",
       "</style>\n",
       "<table border=\"1\" class=\"dataframe\">\n",
       "  <thead>\n",
       "    <tr style=\"text-align: right;\">\n",
       "      <th></th>\n",
       "      <th>AwardPounds</th>\n",
       "    </tr>\n",
       "    <tr>\n",
       "      <th>LeadROName</th>\n",
       "      <th></th>\n",
       "    </tr>\n",
       "  </thead>\n",
       "  <tbody>\n",
       "    <tr>\n",
       "      <th>University of Abertay Dundee</th>\n",
       "      <td>15198</td>\n",
       "    </tr>\n",
       "    <tr>\n",
       "      <th>Oxford Brookes University</th>\n",
       "      <td>15237</td>\n",
       "    </tr>\n",
       "    <tr>\n",
       "      <th>Quadram Institute Bioscience</th>\n",
       "      <td>24416</td>\n",
       "    </tr>\n",
       "    <tr>\n",
       "      <th>Kingston University</th>\n",
       "      <td>31606</td>\n",
       "    </tr>\n",
       "    <tr>\n",
       "      <th>Roehampton University</th>\n",
       "      <td>35949</td>\n",
       "    </tr>\n",
       "    <tr>\n",
       "      <th>...</th>\n",
       "      <td>...</td>\n",
       "    </tr>\n",
       "    <tr>\n",
       "      <th>University of Oxford</th>\n",
       "      <td>32309089</td>\n",
       "    </tr>\n",
       "    <tr>\n",
       "      <th>University of Southampton</th>\n",
       "      <td>36563933</td>\n",
       "    </tr>\n",
       "    <tr>\n",
       "      <th>University of Bristol</th>\n",
       "      <td>36911989</td>\n",
       "    </tr>\n",
       "    <tr>\n",
       "      <th>University College London</th>\n",
       "      <td>47023890</td>\n",
       "    </tr>\n",
       "    <tr>\n",
       "      <th>The Alan Turing Institute</th>\n",
       "      <td>109808696</td>\n",
       "    </tr>\n",
       "  </tbody>\n",
       "</table>\n",
       "<p>93 rows × 1 columns</p>\n",
       "</div>"
      ],
      "text/plain": [
       "                              AwardPounds\n",
       "LeadROName                               \n",
       "University of Abertay Dundee        15198\n",
       "Oxford Brookes University           15237\n",
       "Quadram Institute Bioscience        24416\n",
       "Kingston University                 31606\n",
       "Roehampton University               35949\n",
       "...                                   ...\n",
       "University of Oxford             32309089\n",
       "University of Southampton        36563933\n",
       "University of Bristol            36911989\n",
       "University College London        47023890\n",
       "The Alan Turing Institute       109808696\n",
       "\n",
       "[93 rows x 1 columns]"
      ]
     },
     "execution_count": 222,
     "metadata": {},
     "output_type": "execute_result"
    }
   ],
   "source": [
    "topic[['AwardPounds', 'LeadROName']].groupby(['LeadROName']).sum().sort_values(by = 'AwardPounds')"
   ]
  },
  {
   "cell_type": "code",
   "execution_count": 225,
   "metadata": {},
   "outputs": [
    {
     "data": {
      "text/html": [
       "<div>\n",
       "<style scoped>\n",
       "    .dataframe tbody tr th:only-of-type {\n",
       "        vertical-align: middle;\n",
       "    }\n",
       "\n",
       "    .dataframe tbody tr th {\n",
       "        vertical-align: top;\n",
       "    }\n",
       "\n",
       "    .dataframe thead th {\n",
       "        text-align: right;\n",
       "    }\n",
       "</style>\n",
       "<table border=\"1\" class=\"dataframe\">\n",
       "  <thead>\n",
       "    <tr style=\"text-align: right;\">\n",
       "      <th></th>\n",
       "      <th>AwardPounds</th>\n",
       "    </tr>\n",
       "    <tr>\n",
       "      <th>ProjectCategory</th>\n",
       "      <th></th>\n",
       "    </tr>\n",
       "  </thead>\n",
       "  <tbody>\n",
       "    <tr>\n",
       "      <th>Fellowship</th>\n",
       "      <td>57416178</td>\n",
       "    </tr>\n",
       "    <tr>\n",
       "      <th>Research Grant</th>\n",
       "      <td>602630267</td>\n",
       "    </tr>\n",
       "  </tbody>\n",
       "</table>\n",
       "</div>"
      ],
      "text/plain": [
       "                 AwardPounds\n",
       "ProjectCategory             \n",
       "Fellowship          57416178\n",
       "Research Grant     602630267"
      ]
     },
     "execution_count": 225,
     "metadata": {},
     "output_type": "execute_result"
    }
   ],
   "source": [
    "topic[['AwardPounds', 'ProjectCategory']].groupby(['ProjectCategory']).sum()"
   ]
  },
  {
   "cell_type": "code",
   "execution_count": 218,
   "metadata": {},
   "outputs": [],
   "source": [
    "i = \"1291772D-DFCE-493A-AEE7-24F7EEAFE0E9\"\n",
    "url = \"https://gtr.ukri.org/gtr/api/organisations.json\"\n",
    "\n",
    "response = requests.get(url)\n",
    "#x = response.json()"
   ]
  }
 ],
 "metadata": {
  "kernelspec": {
   "display_name": "Python 3",
   "language": "python",
   "name": "python3"
  },
  "language_info": {
   "codemirror_mode": {
    "name": "ipython",
    "version": 3
   },
   "file_extension": ".py",
   "mimetype": "text/x-python",
   "name": "python",
   "nbconvert_exporter": "python",
   "pygments_lexer": "ipython3",
   "version": "3.7.6"
  }
 },
 "nbformat": 4,
 "nbformat_minor": 4
}
