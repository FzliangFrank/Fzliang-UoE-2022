{
 "cells": [
  {
   "cell_type": "code",
   "execution_count": 181,
   "metadata": {},
   "outputs": [],
   "source": [
    "import pandas as pd\n",
    "import requests as rq\n",
    "import numpy as np\n",
    "import matplotlib.pyplot as plt\n",
    "\n",
    "import json\n",
    "import time\n",
    "import datetime\n",
    "import seaborn as sns"
   ]
  },
  {
   "cell_type": "code",
   "execution_count": 29,
   "metadata": {},
   "outputs": [],
   "source": [
    "import webbrowser\n"
   ]
  },
  {
   "cell_type": "code",
   "execution_count": 13,
   "metadata": {},
   "outputs": [],
   "source": [
    "df = pd.read_csv(\"raw/AIbyTopic.csv\")"
   ]
  },
  {
   "cell_type": "code",
   "execution_count": 270,
   "metadata": {},
   "outputs": [],
   "source": [
    "# function to open project url \n",
    "def OpenID(term):\n",
    "    lu = df[[\"ProjectReference\", \"Title\", \"GTRProjectUrl\"]]\n",
    "    flr = lu['ProjectReference'] == term\n",
    "    link = lu[flr].iloc[0][\"GTRProjectUrl\"]\n",
    "    try:\n",
    "        return webbrowser.open(link)\n",
    "    except: \n",
    "        print(\"Error :(\")\n",
    "        \n",
    "def LookUpID(term):\n",
    "    lu = df[[\"ProjectReference\", \"Title\", \"GTRProjectUrl\"]]\n",
    "    flr = lu['ProjectReference'] == term\n",
    "    return pd.DataFrame.from_dict(df[flr])\n",
    "\n",
    "# function to retrive an items ID\n",
    "def ToID(term):\n",
    "    lu = df[[\"ProjectReference\", \"Title\", \"ProjectId\"]]\n",
    "    flr = lu['ProjectReference'] == term\n",
    "    ID = lu[flr].iloc[0][\"ProjectId\"]\n",
    "    try:\n",
    "        return ID\n",
    "    except: \n",
    "        print(\"Error :(\")\n",
    "      \n",
    "# Function to retirve fundings related to a specific project\n",
    "def retriveFund(ID):   \n",
    "    response = requests.get(\"https://gtr.ukri.org/gtr/api/projects/\" + ToID(ID) + '/funds.json')\n",
    "    return response.json()\n"
   ]
  },
  {
   "cell_type": "code",
   "execution_count": 128,
   "metadata": {},
   "outputs": [
    {
     "data": {
      "text/plain": [
       "True"
      ]
     },
     "execution_count": 128,
     "metadata": {},
     "output_type": "execute_result"
    }
   ],
   "source": [
    "OpenID(\"EP/T001569/1\")"
   ]
  },
  {
   "cell_type": "code",
   "execution_count": 129,
   "metadata": {},
   "outputs": [],
   "source": []
  },
  {
   "cell_type": "code",
   "execution_count": 156,
   "metadata": {},
   "outputs": [],
   "source": []
  },
  {
   "cell_type": "code",
   "execution_count": 145,
   "metadata": {},
   "outputs": [
    {
     "data": {
      "text/plain": [
       "<Response [200]>"
      ]
     },
     "execution_count": 145,
     "metadata": {},
     "output_type": "execute_result"
    }
   ],
   "source": [
    "retriveFund(ID)"
   ]
  },
  {
   "cell_type": "code",
   "execution_count": 146,
   "metadata": {},
   "outputs": [
    {
     "data": {
      "text/html": [
       "<div>\n",
       "<style scoped>\n",
       "    .dataframe tbody tr th:only-of-type {\n",
       "        vertical-align: middle;\n",
       "    }\n",
       "\n",
       "    .dataframe tbody tr th {\n",
       "        vertical-align: top;\n",
       "    }\n",
       "\n",
       "    .dataframe thead th {\n",
       "        text-align: right;\n",
       "    }\n",
       "</style>\n",
       "<table border=\"1\" class=\"dataframe\">\n",
       "  <thead>\n",
       "    <tr style=\"text-align: right;\">\n",
       "      <th></th>\n",
       "      <th>links</th>\n",
       "      <th>ext</th>\n",
       "      <th>id</th>\n",
       "      <th>outcomeid</th>\n",
       "      <th>href</th>\n",
       "      <th>created</th>\n",
       "      <th>updated</th>\n",
       "      <th>start</th>\n",
       "      <th>end</th>\n",
       "      <th>valuePounds</th>\n",
       "      <th>category</th>\n",
       "      <th>type</th>\n",
       "    </tr>\n",
       "  </thead>\n",
       "  <tbody>\n",
       "    <tr>\n",
       "      <th>0</th>\n",
       "      <td>{'link': [{'href': 'https://gtr.ukri.org:443/g...</td>\n",
       "      <td>None</td>\n",
       "      <td>5D0B036F-503F-4535-A4CD-8F1A7D877B7F</td>\n",
       "      <td>None</td>\n",
       "      <td>https://gtr.ukri.org:443/gtr/api/funds/5D0B036...</td>\n",
       "      <td>1627562198000</td>\n",
       "      <td>None</td>\n",
       "      <td>1541030400000</td>\n",
       "      <td>1607990400000</td>\n",
       "      <td>{'currencyCode': 'GBP', 'amount': 38799999}</td>\n",
       "      <td>INCOME_ACTUAL</td>\n",
       "      <td>None</td>\n",
       "    </tr>\n",
       "  </tbody>\n",
       "</table>\n",
       "</div>"
      ],
      "text/plain": [
       "                                               links   ext  \\\n",
       "0  {'link': [{'href': 'https://gtr.ukri.org:443/g...  None   \n",
       "\n",
       "                                     id outcomeid  \\\n",
       "0  5D0B036F-503F-4535-A4CD-8F1A7D877B7F      None   \n",
       "\n",
       "                                                href        created updated  \\\n",
       "0  https://gtr.ukri.org:443/gtr/api/funds/5D0B036...  1627562198000    None   \n",
       "\n",
       "           start            end                                  valuePounds  \\\n",
       "0  1541030400000  1607990400000  {'currencyCode': 'GBP', 'amount': 38799999}   \n",
       "\n",
       "        category  type  \n",
       "0  INCOME_ACTUAL  None  "
      ]
     },
     "execution_count": 146,
     "metadata": {},
     "output_type": "execute_result"
    }
   ],
   "source": [
    "pd.DataFrame.from_dict(response.json()['fund'])"
   ]
  },
  {
   "cell_type": "code",
   "execution_count": 147,
   "metadata": {},
   "outputs": [
    {
     "data": {
      "text/plain": [
       "{'link': [{'href': 'https://gtr.ukri.org:443/gtr/api/organisations/798CB33D-C79E-4578-83F2-72606407192C',\n",
       "   'rel': 'FUNDER',\n",
       "   'start': 1541030400000,\n",
       "   'end': 1607990400000,\n",
       "   'otherAttributes': {}},\n",
       "  {'href': 'https://gtr.ukri.org:443/gtr/api/projects/70338EF4-1482-45F5-B382-B3A6F4B53EF2',\n",
       "   'rel': 'FUNDED',\n",
       "   'start': 1541030400000,\n",
       "   'end': 1607990400000,\n",
       "   'otherAttributes': {}}]}"
      ]
     },
     "execution_count": 147,
     "metadata": {},
     "output_type": "execute_result"
    }
   ],
   "source": [
    "response.json()['fund'][0]['links']"
   ]
  },
  {
   "cell_type": "code",
   "execution_count": 151,
   "metadata": {},
   "outputs": [
    {
     "data": {
      "text/plain": [
       "<Response [200]>"
      ]
     },
     "execution_count": 151,
     "metadata": {},
     "output_type": "execute_result"
    }
   ],
   "source": [
    "retriveFund(\"EP/V00784X/1\")\n",
    "#OpenID(\"EP/V00784X/1\")"
   ]
  },
  {
   "cell_type": "code",
   "execution_count": 187,
   "metadata": {},
   "outputs": [
    {
     "data": {
      "text/plain": [
       "{'links': None,\n",
       " 'ext': None,\n",
       " 'page': 1,\n",
       " 'size': 1,\n",
       " 'totalPages': 1,\n",
       " 'totalSize': 1,\n",
       " 'fund': [{'links': {'link': [{'href': 'https://gtr.ukri.org:443/gtr/api/organisations/798CB33D-C79E-4578-83F2-72606407192C',\n",
       "      'rel': 'FUNDER',\n",
       "      'start': 1427842800000,\n",
       "      'end': 1601420400000,\n",
       "      'otherAttributes': {}},\n",
       "     {'href': 'https://gtr.ukri.org:443/gtr/api/projects/B153B16B-2923-4E40-9831-B31EF203BDE5',\n",
       "      'rel': 'FUNDED',\n",
       "      'start': 1427842800000,\n",
       "      'end': 1601420400000,\n",
       "      'otherAttributes': {}}]},\n",
       "   'ext': None,\n",
       "   'id': '35F1E5C6-A262-45D7-B8D7-621911CF9E62',\n",
       "   'outcomeid': None,\n",
       "   'href': 'https://gtr.ukri.org:443/gtr/api/funds/35F1E5C6-A262-45D7-B8D7-621911CF9E62',\n",
       "   'created': 1627562198000,\n",
       "   'updated': None,\n",
       "   'start': 1427842800000,\n",
       "   'end': 1601420400000,\n",
       "   'valuePounds': {'currencyCode': 'GBP', 'amount': 42000000},\n",
       "   'category': 'INCOME_ACTUAL',\n",
       "   'type': None}]}"
      ]
     },
     "execution_count": 187,
     "metadata": {},
     "output_type": "execute_result"
    }
   ],
   "source": [
    "retriveFund(\"EP/N510129/1\")"
   ]
  },
  {
   "cell_type": "code",
   "execution_count": 264,
   "metadata": {},
   "outputs": [
    {
     "data": {
      "text/html": [
       "<div>\n",
       "<style scoped>\n",
       "    .dataframe tbody tr th:only-of-type {\n",
       "        vertical-align: middle;\n",
       "    }\n",
       "\n",
       "    .dataframe tbody tr th {\n",
       "        vertical-align: top;\n",
       "    }\n",
       "\n",
       "    .dataframe thead th {\n",
       "        text-align: right;\n",
       "    }\n",
       "</style>\n",
       "<table border=\"1\" class=\"dataframe\">\n",
       "  <thead>\n",
       "    <tr style=\"text-align: right;\">\n",
       "      <th></th>\n",
       "      <th>value</th>\n",
       "      <th>fundID</th>\n",
       "      <th>projectID</th>\n",
       "    </tr>\n",
       "  </thead>\n",
       "  <tbody>\n",
       "    <tr>\n",
       "      <th>0</th>\n",
       "      <td>293434</td>\n",
       "      <td>41723149-413B-42FC-9FF7-7ED56477C041</td>\n",
       "      <td>2271BBF9-41F5-48E4-8B01-5340846F69F3</td>\n",
       "    </tr>\n",
       "    <tr>\n",
       "      <th>1</th>\n",
       "      <td>273973</td>\n",
       "      <td>D23C5EC3-8C99-4B7F-80F2-3A7A8AC0D3C4</td>\n",
       "      <td>8884E015-2406-4EA9-A34A-788D7212A2E1</td>\n",
       "    </tr>\n",
       "    <tr>\n",
       "      <th>2</th>\n",
       "      <td>461903</td>\n",
       "      <td>A5A13BFB-8D2B-4556-B813-D86D961B07FB</td>\n",
       "      <td>EC1A3AD5-414B-4A37-9E57-9FC128D84701</td>\n",
       "    </tr>\n",
       "  </tbody>\n",
       "</table>\n",
       "</div>"
      ],
      "text/plain": [
       "    value                                fundID  \\\n",
       "0  293434  41723149-413B-42FC-9FF7-7ED56477C041   \n",
       "1  273973  D23C5EC3-8C99-4B7F-80F2-3A7A8AC0D3C4   \n",
       "2  461903  A5A13BFB-8D2B-4556-B813-D86D961B07FB   \n",
       "\n",
       "                              projectID  \n",
       "0  2271BBF9-41F5-48E4-8B01-5340846F69F3  \n",
       "1  8884E015-2406-4EA9-A34A-788D7212A2E1  \n",
       "2  EC1A3AD5-414B-4A37-9E57-9FC128D84701  "
      ]
     },
     "execution_count": 264,
     "metadata": {},
     "output_type": "execute_result"
    }
   ],
   "source": [
    "listX = []\n",
    "for j in df['ProjectReference'].sample(3):  \n",
    "    projectID = ToID(j)\n",
    "    for i in retriveFund(j)['fund']:\n",
    "        value = i['valuePounds']['amount']\n",
    "        fundID = i['id']\n",
    "        x = [value, fundID, projectID]\n",
    "        listX.append(x)\n",
    "pd.DataFrame(listX, columns = ['value', 'fundID', \"projectID\"])"
   ]
  },
  {
   "cell_type": "code",
   "execution_count": 274,
   "metadata": {},
   "outputs": [],
   "source": [
    "def LookUpID(term):\n",
    "    lu = df[[\"ProjectReference\", \"Title\", \"GTRProjectUrl\"]]\n",
    "    flr = lu['ProjectReference'] == term\n",
    "    return pd.DataFrame.from_dict(df[flr])"
   ]
  },
  {
   "cell_type": "code",
   "execution_count": 275,
   "metadata": {},
   "outputs": [
    {
     "data": {
      "text/html": [
       "<div>\n",
       "<style scoped>\n",
       "    .dataframe tbody tr th:only-of-type {\n",
       "        vertical-align: middle;\n",
       "    }\n",
       "\n",
       "    .dataframe tbody tr th {\n",
       "        vertical-align: top;\n",
       "    }\n",
       "\n",
       "    .dataframe thead th {\n",
       "        text-align: right;\n",
       "    }\n",
       "</style>\n",
       "<table border=\"1\" class=\"dataframe\">\n",
       "  <thead>\n",
       "    <tr style=\"text-align: right;\">\n",
       "      <th></th>\n",
       "      <th>FundingOrgName</th>\n",
       "      <th>ProjectReference</th>\n",
       "      <th>LeadROName</th>\n",
       "      <th>Department</th>\n",
       "      <th>ProjectCategory</th>\n",
       "      <th>PISurname</th>\n",
       "      <th>PIFirstName</th>\n",
       "      <th>PIOtherNames</th>\n",
       "      <th>PI ORCID iD</th>\n",
       "      <th>StudentSurname</th>\n",
       "      <th>...</th>\n",
       "      <th>Classifications 2</th>\n",
       "      <th>Classifications 3</th>\n",
       "      <th>Classifications 4</th>\n",
       "      <th>Classifications 5</th>\n",
       "      <th>Other Classifications</th>\n",
       "      <th>GTRProjectUrl</th>\n",
       "      <th>ProjectId</th>\n",
       "      <th>FundingOrgId</th>\n",
       "      <th>LeadROId</th>\n",
       "      <th>PIId</th>\n",
       "    </tr>\n",
       "  </thead>\n",
       "  <tbody>\n",
       "    <tr>\n",
       "      <th>586</th>\n",
       "      <td>EPSRC</td>\n",
       "      <td>EP/T001569/1</td>\n",
       "      <td>The Alan Turing Institute</td>\n",
       "      <td>Research</td>\n",
       "      <td>Research Grant</td>\n",
       "      <td>Wilson</td>\n",
       "      <td>Alan</td>\n",
       "      <td>NaN</td>\n",
       "      <td>NaN</td>\n",
       "      <td>NaN</td>\n",
       "      <td>...</td>\n",
       "      <td>Building Ops &amp; Management</td>\n",
       "      <td>Mathematical Aspects of OR</td>\n",
       "      <td>Statistics &amp; Appl. Probability</td>\n",
       "      <td>NaN</td>\n",
       "      <td>NaN</td>\n",
       "      <td>https://gtr.ukri.org:443/projects?ref=EP/T0015...</td>\n",
       "      <td>70338EF4-1482-45F5-B382-B3A6F4B53EF2</td>\n",
       "      <td>798CB33D-C79E-4578-83F2-72606407192C</td>\n",
       "      <td>932BEDE4-B3F0-4A95-B84F-3DC4EEC73F0E</td>\n",
       "      <td>FB833B5F-F8D4-4D5B-A83C-DEBA96E317E7</td>\n",
       "    </tr>\n",
       "  </tbody>\n",
       "</table>\n",
       "<p>1 rows × 31 columns</p>\n",
       "</div>"
      ],
      "text/plain": [
       "    FundingOrgName ProjectReference                 LeadROName Department  \\\n",
       "586          EPSRC     EP/T001569/1  The Alan Turing Institute   Research   \n",
       "\n",
       "    ProjectCategory PISurname PIFirstName PIOtherNames PI ORCID iD  \\\n",
       "586  Research Grant    Wilson        Alan          NaN         NaN   \n",
       "\n",
       "     StudentSurname  ...          Classifications 2  \\\n",
       "586             NaN  ...  Building Ops & Management   \n",
       "\n",
       "              Classifications 3               Classifications 4  \\\n",
       "586  Mathematical Aspects of OR  Statistics & Appl. Probability   \n",
       "\n",
       "    Classifications 5 Other Classifications  \\\n",
       "586               NaN                   NaN   \n",
       "\n",
       "                                         GTRProjectUrl  \\\n",
       "586  https://gtr.ukri.org:443/projects?ref=EP/T0015...   \n",
       "\n",
       "                                ProjectId  \\\n",
       "586  70338EF4-1482-45F5-B382-B3A6F4B53EF2   \n",
       "\n",
       "                             FundingOrgId  \\\n",
       "586  798CB33D-C79E-4578-83F2-72606407192C   \n",
       "\n",
       "                                 LeadROId  \\\n",
       "586  932BEDE4-B3F0-4A95-B84F-3DC4EEC73F0E   \n",
       "\n",
       "                                     PIId  \n",
       "586  FB833B5F-F8D4-4D5B-A83C-DEBA96E317E7  \n",
       "\n",
       "[1 rows x 31 columns]"
      ]
     },
     "execution_count": 275,
     "metadata": {},
     "output_type": "execute_result"
    }
   ],
   "source": [
    "LookUpID('EP/T001569/1')"
   ]
  },
  {
   "cell_type": "code",
   "execution_count": 283,
   "metadata": {},
   "outputs": [
    {
     "data": {
      "text/plain": [
       "True"
      ]
     },
     "execution_count": 283,
     "metadata": {},
     "output_type": "execute_result"
    }
   ],
   "source": [
    "OpenID('EP/T001569/1')"
   ]
  },
  {
   "cell_type": "code",
   "execution_count": 282,
   "metadata": {},
   "outputs": [
    {
     "data": {
      "text/html": [
       "<div>\n",
       "<style scoped>\n",
       "    .dataframe tbody tr th:only-of-type {\n",
       "        vertical-align: middle;\n",
       "    }\n",
       "\n",
       "    .dataframe tbody tr th {\n",
       "        vertical-align: top;\n",
       "    }\n",
       "\n",
       "    .dataframe thead th {\n",
       "        text-align: right;\n",
       "    }\n",
       "</style>\n",
       "<table border=\"1\" class=\"dataframe\">\n",
       "  <thead>\n",
       "    <tr style=\"text-align: right;\">\n",
       "      <th></th>\n",
       "      <th>Title</th>\n",
       "      <th>AwardPounds</th>\n",
       "    </tr>\n",
       "  </thead>\n",
       "  <tbody>\n",
       "    <tr>\n",
       "      <th>3</th>\n",
       "      <td>Living with Machines</td>\n",
       "      <td>8994959</td>\n",
       "    </tr>\n",
       "    <tr>\n",
       "      <th>381</th>\n",
       "      <td>Advancing Probabilistic Machine Learning to De...</td>\n",
       "      <td>3064554</td>\n",
       "    </tr>\n",
       "    <tr>\n",
       "      <th>464</th>\n",
       "      <td>The Alan Turing Institute</td>\n",
       "      <td>42000000</td>\n",
       "    </tr>\n",
       "    <tr>\n",
       "      <th>531</th>\n",
       "      <td>The Alan Turing Institute 20/21 - 21/22</td>\n",
       "      <td>6000000</td>\n",
       "    </tr>\n",
       "    <tr>\n",
       "      <th>539</th>\n",
       "      <td>Turing AI Fellowships Phase 1</td>\n",
       "      <td>7388760</td>\n",
       "    </tr>\n",
       "    <tr>\n",
       "      <th>586</th>\n",
       "      <td>Strategic Priorities Fund - AI for Science, En...</td>\n",
       "      <td>38799999</td>\n",
       "    </tr>\n",
       "    <tr>\n",
       "      <th>596</th>\n",
       "      <td>FAIR: Framework for responsible adoption of Ar...</td>\n",
       "      <td>3166200</td>\n",
       "    </tr>\n",
       "    <tr>\n",
       "      <th>782</th>\n",
       "      <td>PATH-AI: Mapping an Intercultural Path to Priv...</td>\n",
       "      <td>394224</td>\n",
       "    </tr>\n",
       "  </tbody>\n",
       "</table>\n",
       "</div>"
      ],
      "text/plain": [
       "                                                 Title  AwardPounds\n",
       "3                                 Living with Machines      8994959\n",
       "381  Advancing Probabilistic Machine Learning to De...      3064554\n",
       "464                          The Alan Turing Institute     42000000\n",
       "531            The Alan Turing Institute 20/21 - 21/22      6000000\n",
       "539                      Turing AI Fellowships Phase 1      7388760\n",
       "586  Strategic Priorities Fund - AI for Science, En...     38799999\n",
       "596  FAIR: Framework for responsible adoption of Ar...      3166200\n",
       "782  PATH-AI: Mapping an Intercultural Path to Priv...       394224"
      ]
     },
     "execution_count": 282,
     "metadata": {},
     "output_type": "execute_result"
    }
   ],
   "source": [
    "flr = df[ \"LeadROName\"].str.contains(\"Alan Turing\")\n",
    "df[flr][[\"Title\", \"AwardPounds\"]]"
   ]
  }
 ],
 "metadata": {
  "kernelspec": {
   "display_name": "Python 3",
   "language": "python",
   "name": "python3"
  },
  "language_info": {
   "codemirror_mode": {
    "name": "ipython",
    "version": 3
   },
   "file_extension": ".py",
   "mimetype": "text/x-python",
   "name": "python",
   "nbconvert_exporter": "python",
   "pygments_lexer": "ipython3",
   "version": "3.7.6"
  }
 },
 "nbformat": 4,
 "nbformat_minor": 4
}
