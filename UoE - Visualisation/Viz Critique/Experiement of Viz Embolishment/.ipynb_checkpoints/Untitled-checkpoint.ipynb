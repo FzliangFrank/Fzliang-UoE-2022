{
 "cells": [
  {
   "cell_type": "code",
   "execution_count": 4,
   "metadata": {},
   "outputs": [],
   "source": [
    "import numpy as np\n",
    "import matplotlib.pyplot as plt\n",
    "import pandas as pd\n",
    "import seaborn as sns\n"
   ]
  },
  {
   "cell_type": "markdown",
   "metadata": {},
   "source": [
    "https://github.com/dwskau/bar-chart-embellishment"
   ]
  },
  {
   "cell_type": "code",
   "execution_count": 5,
   "metadata": {},
   "outputs": [
    {
     "data": {
      "text/html": [
       "<div>\n",
       "<style scoped>\n",
       "    .dataframe tbody tr th:only-of-type {\n",
       "        vertical-align: middle;\n",
       "    }\n",
       "\n",
       "    .dataframe tbody tr th {\n",
       "        vertical-align: top;\n",
       "    }\n",
       "\n",
       "    .dataframe thead th {\n",
       "        text-align: right;\n",
       "    }\n",
       "</style>\n",
       "<table border=\"1\" class=\"dataframe\">\n",
       "  <thead>\n",
       "    <tr style=\"text-align: right;\">\n",
       "      <th></th>\n",
       "      <th>time_start_time_trial</th>\n",
       "      <th>bars</th>\n",
       "      <th>time_end_time_trial</th>\n",
       "      <th>bar</th>\n",
       "      <th>data_trial</th>\n",
       "      <th>number_in_series</th>\n",
       "      <th>log_error</th>\n",
       "      <th>totalSequence</th>\n",
       "      <th>question_trial</th>\n",
       "      <th>judged_true</th>\n",
       "      <th>ans_percentage_diff</th>\n",
       "      <th>max_mid_min</th>\n",
       "      <th>number_in_section</th>\n",
       "      <th>adjacent</th>\n",
       "      <th>question_type</th>\n",
       "      <th>ans_trial</th>\n",
       "      <th>postID</th>\n",
       "      <th>chart_embellishment</th>\n",
       "      <th>time_diff_time_trial</th>\n",
       "      <th>correctAns_trial</th>\n",
       "    </tr>\n",
       "  </thead>\n",
       "  <tbody>\n",
       "    <tr>\n",
       "      <th>13410</th>\n",
       "      <td>1417476037213</td>\n",
       "      <td>2,1</td>\n",
       "      <td>1.417476e+12</td>\n",
       "      <td>NaN</td>\n",
       "      <td>9,77,14</td>\n",
       "      <td>3</td>\n",
       "      <td>6.522671</td>\n",
       "      <td>3</td>\n",
       "      <td>what percentage is C of B</td>\n",
       "      <td>91.818182</td>\n",
       "      <td>5.0500</td>\n",
       "      <td>NaN</td>\n",
       "      <td>3</td>\n",
       "      <td>True</td>\n",
       "      <td>relative</td>\n",
       "      <td>110.0</td>\n",
       "      <td>i36gv8wz</td>\n",
       "      <td>zero</td>\n",
       "      <td>4729.0</td>\n",
       "      <td>18.181818</td>\n",
       "    </tr>\n",
       "    <tr>\n",
       "      <th>5080</th>\n",
       "      <td>1417475954029</td>\n",
       "      <td>2,0</td>\n",
       "      <td>1.417476e+12</td>\n",
       "      <td>NaN</td>\n",
       "      <td>29,69,20</td>\n",
       "      <td>3</td>\n",
       "      <td>3.471255</td>\n",
       "      <td>43</td>\n",
       "      <td>what percentage is C of A</td>\n",
       "      <td>-10.965517</td>\n",
       "      <td>-0.1590</td>\n",
       "      <td>NaN</td>\n",
       "      <td>43</td>\n",
       "      <td>False</td>\n",
       "      <td>relative</td>\n",
       "      <td>58.0</td>\n",
       "      <td>i36g7ihy</td>\n",
       "      <td>overlapping</td>\n",
       "      <td>6345.0</td>\n",
       "      <td>68.965517</td>\n",
       "    </tr>\n",
       "    <tr>\n",
       "      <th>8350</th>\n",
       "      <td>1417473175665</td>\n",
       "      <td>0,2</td>\n",
       "      <td>1.417473e+12</td>\n",
       "      <td>NaN</td>\n",
       "      <td>8,34,11</td>\n",
       "      <td>6</td>\n",
       "      <td>4.120827</td>\n",
       "      <td>49</td>\n",
       "      <td>what percentage is A of C</td>\n",
       "      <td>17.272727</td>\n",
       "      <td>0.2375</td>\n",
       "      <td>NaN</td>\n",
       "      <td>14</td>\n",
       "      <td>False</td>\n",
       "      <td>relative</td>\n",
       "      <td>90.0</td>\n",
       "      <td>i36f474f</td>\n",
       "      <td>rounded</td>\n",
       "      <td>7571.0</td>\n",
       "      <td>72.727273</td>\n",
       "    </tr>\n",
       "  </tbody>\n",
       "</table>\n",
       "</div>"
      ],
      "text/plain": [
       "       time_start_time_trial bars  time_end_time_trial  bar data_trial  \\\n",
       "13410          1417476037213  2,1         1.417476e+12  NaN    9,77,14   \n",
       "5080           1417475954029  2,0         1.417476e+12  NaN   29,69,20   \n",
       "8350           1417473175665  0,2         1.417473e+12  NaN    8,34,11   \n",
       "\n",
       "       number_in_series  log_error  totalSequence             question_trial  \\\n",
       "13410                 3   6.522671              3  what percentage is C of B   \n",
       "5080                  3   3.471255             43  what percentage is C of A   \n",
       "8350                  6   4.120827             49  what percentage is A of C   \n",
       "\n",
       "       judged_true  ans_percentage_diff max_mid_min  number_in_section  \\\n",
       "13410    91.818182               5.0500         NaN                  3   \n",
       "5080    -10.965517              -0.1590         NaN                 43   \n",
       "8350     17.272727               0.2375         NaN                 14   \n",
       "\n",
       "      adjacent question_type  ans_trial    postID chart_embellishment  \\\n",
       "13410     True      relative      110.0  i36gv8wz                zero   \n",
       "5080     False      relative       58.0  i36g7ihy         overlapping   \n",
       "8350     False      relative       90.0  i36f474f             rounded   \n",
       "\n",
       "       time_diff_time_trial  correctAns_trial  \n",
       "13410                4729.0         18.181818  \n",
       "5080                 6345.0         68.965517  \n",
       "8350                 7571.0         72.727273  "
      ]
     },
     "execution_count": 5,
     "metadata": {},
     "output_type": "execute_result"
    }
   ],
   "source": [
    "df = pd.read_csv(\"/Users/frankliang/Dropbox/Projects/Viz/Raw/embellished-bars-study.csv\")\n",
    "df.sample(3)"
   ]
  },
  {
   "cell_type": "code",
   "execution_count": 13,
   "metadata": {},
   "outputs": [
    {
     "name": "stdout",
     "output_type": "stream",
     "text": [
      "<class 'pandas.core.frame.DataFrame'>\n",
      "RangeIndex: 27391 entries, 0 to 27390\n",
      "Data columns (total 20 columns):\n",
      " #   Column                 Non-Null Count  Dtype  \n",
      "---  ------                 --------------  -----  \n",
      " 0   time_start_time_trial  27391 non-null  int64  \n",
      " 1   bars                   16856 non-null  object \n",
      " 2   time_end_time_trial    26789 non-null  float64\n",
      " 3   bar                    10535 non-null  float64\n",
      " 4   data_trial             27391 non-null  object \n",
      " 5   number_in_series       27391 non-null  int64  \n",
      " 6   log_error              27391 non-null  float64\n",
      " 7   totalSequence          27391 non-null  int64  \n",
      " 8   question_trial         27391 non-null  object \n",
      " 9   judged_true            27391 non-null  float64\n",
      " 10  ans_percentage_diff    27391 non-null  float64\n",
      " 11  max_mid_min            10535 non-null  object \n",
      " 12  number_in_section      27391 non-null  int64  \n",
      " 13  adjacent               16856 non-null  object \n",
      " 14  question_type          27391 non-null  object \n",
      " 15  ans_trial              27291 non-null  float64\n",
      " 16  postID                 27391 non-null  object \n",
      " 17  chart_embellishment    27391 non-null  object \n",
      " 18  time_diff_time_trial   26789 non-null  float64\n",
      " 19  correctAns_trial       27391 non-null  float64\n",
      "dtypes: float64(8), int64(4), object(8)\n",
      "memory usage: 4.2+ MB\n"
     ]
    }
   ],
   "source": [
    "df.info()"
   ]
  },
  {
   "cell_type": "code",
   "execution_count": 9,
   "metadata": {},
   "outputs": [
    {
     "data": {
      "text/plain": [
       "<matplotlib.axes._subplots.AxesSubplot at 0x7f8be4c31710>"
      ]
     },
     "execution_count": 9,
     "metadata": {},
     "output_type": "execute_result"
    },
    {
     "data": {
      "image/png": "[encoded data removed]",
      "text/plain": [
       "<Figure size 432x288 with 1 Axes>"
      ]
     },
     "metadata": {
      "needs_background": "light"
     },
     "output_type": "display_data"
    }
   ],
   "source": [
    "sns.violinplot(x = \"chart_embellishment\", y = \"log_error\", data = df)"
   ]
  },
  {
   "cell_type": "code",
   "execution_count": 18,
   "metadata": {},
   "outputs": [
    {
     "data": {
      "text/plain": [
       "chart_embellishment\n",
       "baseline       29.767381\n",
       "capped         -0.496454\n",
       "overlapping     1.705928\n",
       "quadratic       2.171655\n",
       "rounded         5.264706\n",
       "triangle        3.357034\n",
       "zero            3.362642\n",
       "Name: judged_true, dtype: float64"
      ]
     },
     "execution_count": 18,
     "metadata": {},
     "output_type": "execute_result"
    }
   ],
   "source": [
    "df[[\"chart_embellishment\",\"judged_true\"]]\n",
    "df.groupby([\"chart_embellishment\"])[\"judged_true\"].mean()"
   ]
  },
  {
   "cell_type": "code",
   "execution_count": null,
   "metadata": {},
   "outputs": [],
   "source": [
    "df[df[\"chart_embellishment\"] == \"baseline\"]"
   ]
  },
  {
   "cell_type": "code",
   "execution_count": null,
   "metadata": {},
   "outputs": [],
   "source": [
    "bs"
   ]
  },
  {
   "cell_type": "code",
   "execution_count": null,
   "metadata": {},
   "outputs": [],
   "source": []
  }
 ],
 "metadata": {
  "kernelspec": {
   "display_name": "Python 3",
   "language": "python",
   "name": "python3"
  },
  "language_info": {
   "codemirror_mode": {
    "name": "ipython",
    "version": 3
   },
   "file_extension": ".py",
   "mimetype": "text/x-python",
   "name": "python",
   "nbconvert_exporter": "python",
   "pygments_lexer": "ipython3",
   "version": "3.7.6"
  }
 },
 "nbformat": 4,
 "nbformat_minor": 4
}
